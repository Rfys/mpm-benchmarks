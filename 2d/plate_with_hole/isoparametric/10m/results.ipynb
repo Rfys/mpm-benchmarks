{
 "metadata": {
  "language_info": {
   "codemirror_mode": {
    "name": "ipython",
    "version": 3
   },
   "file_extension": ".py",
   "mimetype": "text/x-python",
   "name": "python",
   "nbconvert_exporter": "python",
   "pygments_lexer": "ipython3",
   "version": "3.8.5-final"
  },
  "orig_nbformat": 2,
  "kernelspec": {
   "name": "python38264bit145f93f34e45433fb6c1c6d65bb37731",
   "display_name": "Python 3.8.2 64-bit"
  }
 },
 "nbformat": 4,
 "nbformat_minor": 2,
 "cells": [
  {
   "source": [
    "# Plate with Hole\n",
    "\n",
    "## Isoparametric\n",
    "## 10 Meter Associated"
   ],
   "cell_type": "markdown",
   "metadata": {}
  },
  {
   "cell_type": "code",
   "execution_count": 1,
   "metadata": {
    "tags": []
   },
   "outputs": [
    {
     "output_type": "stream",
     "name": "stdout",
     "text": [
      "Maximum σ_yy: -30000000.0\nMinimum σ_xx: -30000000.0\nRadial stress at material point #1600: -30000000.0\nHoop stress at material point #1600: -30000000.0\n"
     ]
    }
   ],
   "source": [
    "import pandas as pd\n",
    "import numpy as np\n",
    "# mateiral point\n",
    "m_p = 1600\n",
    "df = pd.read_hdf('results/testing_associated_/particles000000.h5', 'table')\n",
    "# polar coordinates\n",
    "theta = np.arctan2(df['coord_y'][m_p], df['coord_x'][m_p])\n",
    "costheta = np.cos(theta)\n",
    "sintheta = np.sin(theta)\n",
    "cos2theta = np.cos(2 * theta)\n",
    "sin2theta = np.sin(2 * theta)\n",
    "# stress\n",
    "sigma_rr = df['stress_xx'][m_p] * np.power(costheta, 2) + df['stress_yy'][m_p] * np.power(sintheta, 2) + df['tau_xy'][m_p] * sin2theta\n",
    "sigma_tt = df['stress_xx'][m_p] * np.power(sintheta, 2) + df['stress_yy'][m_p] * np.power(costheta, 2) - df['tau_xy'][m_p] * sin2theta\n",
    "# output\n",
    "print(\"Maximum σ_yy: {}\".format(df['stress_yy'].max()))\n",
    "print(\"Minimum σ_xx: {}\".format(df['stress_xx'].min()))\n",
    "print(\"Radial stress at material point #\" + str(m_p) + \": \" + str(sigma_rr))\n",
    "print(\"Hoop stress at material point #\" + str(m_p) + \": \" + str(sigma_tt))"
   ]
  },
  {
   "cell_type": "code",
   "execution_count": 2,
   "metadata": {
    "tags": []
   },
   "outputs": [
    {
     "output_type": "stream",
     "name": "stdout",
     "text": [
      "Maximum σ_yy: -201608.43598011945\nMinimum σ_xx: -49559881.516417734\nRadial stress at material point #1600: -9755273.423517793\nHoop stress at material point #1600: -41213699.100561135\n"
     ]
    }
   ],
   "source": [
    "import pandas as pd\n",
    "import numpy as np\n",
    "# mateiral point\n",
    "m_p = 1600\n",
    "df = pd.read_hdf('results/testing_associated_/particles095000.h5', 'table')\n",
    "# polar coordinates\n",
    "theta = np.arctan2(df['coord_y'][m_p], df['coord_x'][m_p])\n",
    "costheta = np.cos(theta)\n",
    "sintheta = np.sin(theta)\n",
    "cos2theta = np.cos(2 * theta)\n",
    "sin2theta = np.sin(2 * theta)\n",
    "# stress\n",
    "sigma_rr = df['stress_xx'][m_p] * np.power(costheta, 2) + df['stress_yy'][m_p] * np.power(sintheta, 2) + df['tau_xy'][m_p] * sin2theta\n",
    "sigma_tt = df['stress_xx'][m_p] * np.power(sintheta, 2) + df['stress_yy'][m_p] * np.power(costheta, 2) - df['tau_xy'][m_p] * sin2theta\n",
    "# output\n",
    "print(\"Maximum σ_yy: {}\".format(df['stress_yy'].max()))\n",
    "print(\"Minimum σ_xx: {}\".format(df['stress_xx'].min()))\n",
    "print(\"Radial stress at material point #\" + str(m_p) + \": \" + str(sigma_rr))\n",
    "print(\"Hoop stress at material point #\" + str(m_p) + \": \" + str(sigma_tt))"
   ]
  },
  {
   "cell_type": "code",
   "execution_count": 3,
   "metadata": {
    "tags": []
   },
   "outputs": [
    {
     "output_type": "stream",
     "name": "stdout",
     "text": [
      "Maximum σ_yy: 761.5738516344204\nMinimum σ_xx: -49979815.31030907\nRadial stress at material point #1600: -8155933.847599838\nHoop stress at material point #1600: -36418056.835221864\n"
     ]
    }
   ],
   "source": [
    "import pandas as pd\n",
    "import numpy as np\n",
    "# mateiral point\n",
    "m_p = 1600\n",
    "df = pd.read_hdf('results/testing_associated_/particles195000.h5', 'table')\n",
    "# polar coordinates\n",
    "theta = np.arctan2(df['coord_y'][m_p], df['coord_x'][m_p])\n",
    "costheta = np.cos(theta)\n",
    "sintheta = np.sin(theta)\n",
    "cos2theta = np.cos(2 * theta)\n",
    "sin2theta = np.sin(2 * theta)\n",
    "# stress\n",
    "sigma_rr = df['stress_xx'][m_p] * np.power(costheta, 2) + df['stress_yy'][m_p] * np.power(sintheta, 2) + df['tau_xy'][m_p] * sin2theta\n",
    "sigma_tt = df['stress_xx'][m_p] * np.power(sintheta, 2) + df['stress_yy'][m_p] * np.power(costheta, 2) - df['tau_xy'][m_p] * sin2theta\n",
    "# output\n",
    "print(\"Maximum σ_yy: {}\".format(df['stress_yy'].max()))\n",
    "print(\"Minimum σ_xx: {}\".format(df['stress_xx'].min()))\n",
    "print(\"Radial stress at material point #\" + str(m_p) + \": \" + str(sigma_rr))\n",
    "print(\"Hoop stress at material point #\" + str(m_p) + \": \" + str(sigma_tt))"
   ]
  },
  {
   "source": [
    "## 10 Meter Nonassociated"
   ],
   "cell_type": "markdown",
   "metadata": {}
  },
  {
   "cell_type": "code",
   "execution_count": 4,
   "metadata": {
    "tags": []
   },
   "outputs": [
    {
     "output_type": "stream",
     "name": "stdout",
     "text": [
      "Maximum σ_yy: -30000000.0\nMinimum σ_xx: -30000000.0\nRadial stress at material point #1600: -30000000.0\nHoop stress at material point #1600: -30000000.0\n"
     ]
    }
   ],
   "source": [
    "import pandas as pd\n",
    "import numpy as np\n",
    "# mateiral point\n",
    "m_p = 1600\n",
    "df = pd.read_hdf('results/testing_nonassociated_/particles000000.h5', 'table')\n",
    "# polar coordinates\n",
    "theta = np.arctan2(df['coord_y'][m_p], df['coord_x'][m_p])\n",
    "costheta = np.cos(theta)\n",
    "sintheta = np.sin(theta)\n",
    "cos2theta = np.cos(2 * theta)\n",
    "sin2theta = np.sin(2 * theta)\n",
    "# stress\n",
    "sigma_rr = df['stress_xx'][m_p] * np.power(costheta, 2) + df['stress_yy'][m_p] * np.power(sintheta, 2) + df['tau_xy'][m_p] * sin2theta\n",
    "sigma_tt = df['stress_xx'][m_p] * np.power(sintheta, 2) + df['stress_yy'][m_p] * np.power(costheta, 2) - df['tau_xy'][m_p] * sin2theta\n",
    "# output\n",
    "print(\"Maximum σ_yy: {}\".format(df['stress_yy'].max()))\n",
    "print(\"Minimum σ_xx: {}\".format(df['stress_xx'].min()))\n",
    "print(\"Radial stress at material point #\" + str(m_p) + \": \" + str(sigma_rr))\n",
    "print(\"Hoop stress at material point #\" + str(m_p) + \": \" + str(sigma_tt))"
   ]
  },
  {
   "cell_type": "code",
   "execution_count": 5,
   "metadata": {
    "tags": []
   },
   "outputs": [
    {
     "output_type": "stream",
     "name": "stdout",
     "text": [
      "Maximum σ_yy: -7259.10545992011\nMinimum σ_xx: -48779439.305013\nRadial stress at material point #1600: -7812503.735625984\nHoop stress at material point #1600: -35388303.31213614\n"
     ]
    }
   ],
   "source": [
    "import pandas as pd\n",
    "import numpy as np\n",
    "# mateiral point\n",
    "m_p = 1600\n",
    "df = pd.read_hdf('results/testing_nonassociated_/particles095000.h5', 'table')\n",
    "# polar coordinates\n",
    "theta = np.arctan2(df['coord_y'][m_p], df['coord_x'][m_p])\n",
    "costheta = np.cos(theta)\n",
    "sintheta = np.sin(theta)\n",
    "cos2theta = np.cos(2 * theta)\n",
    "sin2theta = np.sin(2 * theta)\n",
    "# stress\n",
    "sigma_rr = df['stress_xx'][m_p] * np.power(costheta, 2) + df['stress_yy'][m_p] * np.power(sintheta, 2) + df['tau_xy'][m_p] * sin2theta\n",
    "sigma_tt = df['stress_xx'][m_p] * np.power(sintheta, 2) + df['stress_yy'][m_p] * np.power(costheta, 2) - df['tau_xy'][m_p] * sin2theta\n",
    "# output\n",
    "print(\"Maximum σ_yy: {}\".format(df['stress_yy'].max()))\n",
    "print(\"Minimum σ_xx: {}\".format(df['stress_xx'].min()))\n",
    "print(\"Radial stress at material point #\" + str(m_p) + \": \" + str(sigma_rr))\n",
    "print(\"Hoop stress at material point #\" + str(m_p) + \": \" + str(sigma_tt))"
   ]
  },
  {
   "cell_type": "code",
   "execution_count": 6,
   "metadata": {
    "tags": []
   },
   "outputs": [
    {
     "output_type": "stream",
     "name": "stdout",
     "text": [
      "Maximum σ_yy: -7259.10545992011\nMinimum σ_xx: -48779439.305013\nRadial stress at material point #1600: -7812503.735625984\nHoop stress at material point #1600: -35388303.31213614\n"
     ]
    }
   ],
   "source": [
    "import pandas as pd\n",
    "import numpy as np\n",
    "# mateiral point\n",
    "m_p = 1600\n",
    "df = pd.read_hdf('results/testing_nonassociated_/particles095000.h5', 'table')\n",
    "# polar coordinates\n",
    "theta = np.arctan2(df['coord_y'][m_p], df['coord_x'][m_p])\n",
    "costheta = np.cos(theta)\n",
    "sintheta = np.sin(theta)\n",
    "cos2theta = np.cos(2 * theta)\n",
    "sin2theta = np.sin(2 * theta)\n",
    "# stress\n",
    "sigma_rr = df['stress_xx'][m_p] * np.power(costheta, 2) + df['stress_yy'][m_p] * np.power(sintheta, 2) + df['tau_xy'][m_p] * sin2theta\n",
    "sigma_tt = df['stress_xx'][m_p] * np.power(sintheta, 2) + df['stress_yy'][m_p] * np.power(costheta, 2) - df['tau_xy'][m_p] * sin2theta\n",
    "# output\n",
    "print(\"Maximum σ_yy: {}\".format(df['stress_yy'].max()))\n",
    "print(\"Minimum σ_xx: {}\".format(df['stress_xx'].min()))\n",
    "print(\"Radial stress at material point #\" + str(m_p) + \": \" + str(sigma_rr))\n",
    "print(\"Hoop stress at material point #\" + str(m_p) + \": \" + str(sigma_tt))"
   ]
  }
 ]
}