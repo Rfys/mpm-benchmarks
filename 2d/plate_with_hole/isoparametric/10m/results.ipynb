{
 "metadata": {
  "language_info": {
   "codemirror_mode": {
    "name": "ipython",
    "version": 3
   },
   "file_extension": ".py",
   "mimetype": "text/x-python",
   "name": "python",
   "nbconvert_exporter": "python",
   "pygments_lexer": "ipython3",
   "version": "3.8.2-final"
  },
  "orig_nbformat": 2,
  "kernelspec": {
   "name": "python38264bit145f93f34e45433fb6c1c6d65bb37731",
   "display_name": "Python 3.8.2 64-bit"
  }
 },
 "nbformat": 4,
 "nbformat_minor": 2,
 "cells": [
  {
   "source": [
    "# Plate with Hole\n",
    "\n",
    "## Isoparametric\n",
    "## 10 Meter Associated"
   ],
   "cell_type": "markdown",
   "metadata": {}
  },
  {
   "cell_type": "code",
   "execution_count": 1,
   "metadata": {
    "tags": []
   },
   "outputs": [
    {
     "output_type": "stream",
     "name": "stdout",
     "text": "Maximum σ_yy: -30000000.0\nMinimum σ_xx: -30000000.0\n"
    }
   ],
   "source": [
    "import pandas as pd\n",
    "df = pd.read_hdf('results/testing_associated_/particles000000.h5', 'table')\n",
    "print(\"Maximum σ_yy: {}\".format(df['stress_yy'].max()))\n",
    "print(\"Minimum σ_xx: {}\".format(df['stress_xx'].min()))"
   ]
  },
  {
   "cell_type": "code",
   "execution_count": 2,
   "metadata": {
    "tags": []
   },
   "outputs": [
    {
     "output_type": "stream",
     "name": "stdout",
     "text": "Maximum σ_yy: -201608.43598011945\nMinimum σ_xx: -49559881.516417734\n"
    }
   ],
   "source": [
    "import pandas as pd\n",
    "df = pd.read_hdf('results/testing_associated_/particles095000.h5', 'table')\n",
    "print(\"Maximum σ_yy: {}\".format(df['stress_yy'].max()))\n",
    "print(\"Minimum σ_xx: {}\".format(df['stress_xx'].min()))"
   ]
  },
  {
   "cell_type": "code",
   "execution_count": 3,
   "metadata": {
    "tags": []
   },
   "outputs": [
    {
     "output_type": "stream",
     "name": "stdout",
     "text": "Maximum σ_yy: 761.5738516344204\nMinimum σ_xx: -49979815.31030907\n"
    }
   ],
   "source": [
    "df = pd.read_hdf('results/testing_associated_/particles195000.h5', 'table')\n",
    "print(\"Maximum σ_yy: {}\".format(df['stress_yy'].max()))\n",
    "print(\"Minimum σ_xx: {}\".format(df['stress_xx'].min()))"
   ]
  },
  {
   "source": [
    "## 10 Meter Nonassociated"
   ],
   "cell_type": "markdown",
   "metadata": {}
  },
  {
   "cell_type": "code",
   "execution_count": 4,
   "metadata": {
    "tags": []
   },
   "outputs": [
    {
     "output_type": "stream",
     "name": "stdout",
     "text": "Maximum σ_yy: -30000000.0\nMinimum σ_xx: -30000000.0\n"
    }
   ],
   "source": [
    "import pandas as pd\n",
    "df = pd.read_hdf('results/testing_nonassociated_/particles000000.h5', 'table')\n",
    "print(\"Maximum σ_yy: {}\".format(df['stress_yy'].max()))\n",
    "print(\"Minimum σ_xx: {}\".format(df['stress_xx'].min()))"
   ]
  },
  {
   "cell_type": "code",
   "execution_count": 5,
   "metadata": {
    "tags": []
   },
   "outputs": [
    {
     "output_type": "stream",
     "name": "stdout",
     "text": "Maximum σ_yy: -7259.10545992011\nMinimum σ_xx: -48779439.305013\n"
    }
   ],
   "source": [
    "df = pd.read_hdf('results/testing_nonassociated_/particles095000.h5', 'table')\n",
    "print(\"Maximum σ_yy: {}\".format(df['stress_yy'].max()))\n",
    "print(\"Minimum σ_xx: {}\".format(df['stress_xx'].min()))"
   ]
  },
  {
   "cell_type": "code",
   "execution_count": 6,
   "metadata": {
    "tags": []
   },
   "outputs": [
    {
     "output_type": "stream",
     "name": "stdout",
     "text": "Maximum σ_yy: -1929.5844613647184\nMinimum σ_xx: -48601094.95112954\n"
    }
   ],
   "source": [
    "df = pd.read_hdf('results/testing_nonassociated_/particles195000.h5', 'table')\n",
    "print(\"Maximum σ_yy: {}\".format(df['stress_yy'].max()))\n",
    "print(\"Minimum σ_xx: {}\".format(df['stress_xx'].min()))"
   ]
  }
 ]
}