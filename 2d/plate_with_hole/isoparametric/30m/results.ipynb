{
 "metadata": {
  "language_info": {
   "codemirror_mode": {
    "name": "ipython",
    "version": 3
   },
   "file_extension": ".py",
   "mimetype": "text/x-python",
   "name": "python",
   "nbconvert_exporter": "python",
   "pygments_lexer": "ipython3",
   "version": "3.8.5-final"
  },
  "orig_nbformat": 2,
  "kernelspec": {
   "name": "python38264bit145f93f34e45433fb6c1c6d65bb37731",
   "display_name": "Python 3.8.2 64-bit"
  }
 },
 "nbformat": 4,
 "nbformat_minor": 2,
 "cells": [
  {
   "source": [
    "# Plate with Hole\n",
    "\n",
    "## Isoparametric\n",
    "## 30 Meter Associated"
   ],
   "cell_type": "markdown",
   "metadata": {}
  },
  {
   "cell_type": "code",
   "execution_count": 1,
   "metadata": {
    "tags": []
   },
   "outputs": [
    {
     "output_type": "stream",
     "name": "stdout",
     "text": [
      "Maximum σ_yy: -30000000.0\nMinimum σ_xx: -30000000.0\nRadial stress at material point #1600: -30000000.0\nHoop stress at material point #1600: -30000000.0\n"
     ]
    }
   ],
   "source": [
    "import pandas as pd\n",
    "import numpy as np\n",
    "# mateiral point\n",
    "m_p = 1600\n",
    "df = pd.read_hdf('results/associated_/particles000000.h5', 'table')\n",
    "# polar coordinates\n",
    "theta = np.arctan2(df['coord_y'][m_p], df['coord_x'][m_p])\n",
    "costheta = np.cos(theta)\n",
    "sintheta = np.sin(theta)\n",
    "cos2theta = np.cos(2 * theta)\n",
    "sin2theta = np.sin(2 * theta)\n",
    "# stress\n",
    "sigma_rr = df['stress_xx'][m_p] * np.power(costheta, 2) + df['stress_yy'][m_p] * np.power(sintheta, 2) + df['tau_xy'][m_p] * sin2theta\n",
    "sigma_tt = df['stress_xx'][m_p] * np.power(sintheta, 2) + df['stress_yy'][m_p] * np.power(costheta, 2) - df['tau_xy'][m_p] * sin2theta\n",
    "# output\n",
    "print(\"Maximum σ_yy: {}\".format(df['stress_yy'].max()))\n",
    "print(\"Minimum σ_xx: {}\".format(df['stress_xx'].min()))\n",
    "print(\"Radial stress at material point #\" + str(m_p) + \": \" + str(sigma_rr))\n",
    "print(\"Hoop stress at material point #\" + str(m_p) + \": \" + str(sigma_tt))"
   ]
  },
  {
   "cell_type": "code",
   "execution_count": 2,
   "metadata": {
    "tags": []
   },
   "outputs": [
    {
     "output_type": "stream",
     "name": "stdout",
     "text": [
      "Maximum σ_yy: -913.6521653705396\nMinimum σ_xx: -48205788.86109448\nRadial stress at material point #1600: -5181319.179808137\nHoop stress at material point #1600: -27495107.072141953\n"
     ]
    }
   ],
   "source": [
    "import pandas as pd\n",
    "import numpy as np\n",
    "# mateiral point\n",
    "m_p = 1600\n",
    "df = pd.read_hdf('results/associated_/particles095000.h5', 'table')\n",
    "# polar coordinates\n",
    "theta = np.arctan2(df['coord_y'][m_p], df['coord_x'][m_p])\n",
    "costheta = np.cos(theta)\n",
    "sintheta = np.sin(theta)\n",
    "cos2theta = np.cos(2 * theta)\n",
    "sin2theta = np.sin(2 * theta)\n",
    "# stress\n",
    "sigma_rr = df['stress_xx'][m_p] * np.power(costheta, 2) + df['stress_yy'][m_p] * np.power(sintheta, 2) + df['tau_xy'][m_p] * sin2theta\n",
    "sigma_tt = df['stress_xx'][m_p] * np.power(sintheta, 2) + df['stress_yy'][m_p] * np.power(costheta, 2) - df['tau_xy'][m_p] * sin2theta\n",
    "# output\n",
    "print(\"Maximum σ_yy: {}\".format(df['stress_yy'].max()))\n",
    "print(\"Minimum σ_xx: {}\".format(df['stress_xx'].min()))\n",
    "print(\"Radial stress at material point #\" + str(m_p) + \": \" + str(sigma_rr))\n",
    "print(\"Hoop stress at material point #\" + str(m_p) + \": \" + str(sigma_tt))"
   ]
  },
  {
   "cell_type": "code",
   "execution_count": 3,
   "metadata": {
    "tags": []
   },
   "outputs": [
    {
     "output_type": "stream",
     "name": "stdout",
     "text": [
      "Maximum σ_yy: -604.2836930736258\nMinimum σ_xx: -49447442.92707092\nRadial stress at material point #1600: -6927001.9931197595\nHoop stress at material point #1600: -30681286.113159303\n"
     ]
    }
   ],
   "source": [
    "import pandas as pd\n",
    "import numpy as np\n",
    "# mateiral point\n",
    "m_p = 1600\n",
    "df = pd.read_hdf('results/associated_/particles195000.h5', 'table')\n",
    "# polar coordinates\n",
    "theta = np.arctan2(df['coord_y'][m_p], df['coord_x'][m_p])\n",
    "costheta = np.cos(theta)\n",
    "sintheta = np.sin(theta)\n",
    "cos2theta = np.cos(2 * theta)\n",
    "sin2theta = np.sin(2 * theta)\n",
    "# stress\n",
    "sigma_rr = df['stress_xx'][m_p] * np.power(costheta, 2) + df['stress_yy'][m_p] * np.power(sintheta, 2) + df['tau_xy'][m_p] * sin2theta\n",
    "sigma_tt = df['stress_xx'][m_p] * np.power(sintheta, 2) + df['stress_yy'][m_p] * np.power(costheta, 2) - df['tau_xy'][m_p] * sin2theta\n",
    "# output\n",
    "print(\"Maximum σ_yy: {}\".format(df['stress_yy'].max()))\n",
    "print(\"Minimum σ_xx: {}\".format(df['stress_xx'].min()))\n",
    "print(\"Radial stress at material point #\" + str(m_p) + \": \" + str(sigma_rr))\n",
    "print(\"Hoop stress at material point #\" + str(m_p) + \": \" + str(sigma_tt))"
   ]
  },
  {
   "source": [
    "## 30 Meter Nonassociated"
   ],
   "cell_type": "markdown",
   "metadata": {}
  },
  {
   "cell_type": "code",
   "execution_count": 4,
   "metadata": {
    "tags": []
   },
   "outputs": [
    {
     "output_type": "stream",
     "name": "stdout",
     "text": [
      "Maximum σ_yy: -30000000.0\nMinimum σ_xx: -30000000.0\nRadial stress at material point #1600: -30000000.0\nHoop stress at material point #1600: -30000000.0\n"
     ]
    }
   ],
   "source": [
    "import pandas as pd\n",
    "import numpy as np\n",
    "# mateiral point\n",
    "m_p = 1600\n",
    "df = pd.read_hdf('results/nonassociated_/particles000000.h5', 'table')\n",
    "# polar coordinates\n",
    "theta = np.arctan2(df['coord_y'][m_p], df['coord_x'][m_p])\n",
    "costheta = np.cos(theta)\n",
    "sintheta = np.sin(theta)\n",
    "cos2theta = np.cos(2 * theta)\n",
    "sin2theta = np.sin(2 * theta)\n",
    "# stress\n",
    "sigma_rr = df['stress_xx'][m_p] * np.power(costheta, 2) + df['stress_yy'][m_p] * np.power(sintheta, 2) + df['tau_xy'][m_p] * sin2theta\n",
    "sigma_tt = df['stress_xx'][m_p] * np.power(sintheta, 2) + df['stress_yy'][m_p] * np.power(costheta, 2) - df['tau_xy'][m_p] * sin2theta\n",
    "# output\n",
    "print(\"Maximum σ_yy: {}\".format(df['stress_yy'].max()))\n",
    "print(\"Minimum σ_xx: {}\".format(df['stress_xx'].min()))\n",
    "print(\"Radial stress at material point #\" + str(m_p) + \": \" + str(sigma_rr))\n",
    "print(\"Hoop stress at material point #\" + str(m_p) + \": \" + str(sigma_tt))"
   ]
  },
  {
   "cell_type": "code",
   "execution_count": 5,
   "metadata": {
    "tags": []
   },
   "outputs": [
    {
     "output_type": "stream",
     "name": "stdout",
     "text": [
      "Maximum σ_yy: -26292.498055559263\nMinimum σ_xx: -47401222.60535279\nRadial stress at material point #1600: -4911921.357241978\nHoop stress at material point #1600: -26686910.875079703\n"
     ]
    }
   ],
   "source": [
    "import pandas as pd\n",
    "import numpy as np\n",
    "# mateiral point\n",
    "m_p = 1600\n",
    "df = pd.read_hdf('results/nonassociated_/particles095000.h5', 'table')\n",
    "# polar coordinates\n",
    "theta = np.arctan2(df['coord_y'][m_p], df['coord_x'][m_p])\n",
    "costheta = np.cos(theta)\n",
    "sintheta = np.sin(theta)\n",
    "cos2theta = np.cos(2 * theta)\n",
    "sin2theta = np.sin(2 * theta)\n",
    "# stress\n",
    "sigma_rr = df['stress_xx'][m_p] * np.power(costheta, 2) + df['stress_yy'][m_p] * np.power(sintheta, 2) + df['tau_xy'][m_p] * sin2theta\n",
    "sigma_tt = df['stress_xx'][m_p] * np.power(sintheta, 2) + df['stress_yy'][m_p] * np.power(costheta, 2) - df['tau_xy'][m_p] * sin2theta\n",
    "# output\n",
    "print(\"Maximum σ_yy: {}\".format(df['stress_yy'].max()))\n",
    "print(\"Minimum σ_xx: {}\".format(df['stress_xx'].min()))\n",
    "print(\"Radial stress at material point #\" + str(m_p) + \": \" + str(sigma_rr))\n",
    "print(\"Hoop stress at material point #\" + str(m_p) + \": \" + str(sigma_tt))"
   ]
  },
  {
   "cell_type": "code",
   "execution_count": 6,
   "metadata": {
    "tags": []
   },
   "outputs": [
    {
     "output_type": "stream",
     "name": "stdout",
     "text": [
      "Maximum σ_yy: 619.6778746068345\nMinimum σ_xx: -48183816.63482997\nRadial stress at material point #1600: -4829358.639946312\nHoop stress at material point #1600: -26431917.635290403\n"
     ]
    }
   ],
   "source": [
    "import pandas as pd\n",
    "import numpy as np\n",
    "# mateiral point\n",
    "m_p = 1600\n",
    "df = pd.read_hdf('results/nonassociated_/particles195000.h5', 'table')\n",
    "# polar coordinates\n",
    "theta = np.arctan2(df['coord_y'][m_p], df['coord_x'][m_p])\n",
    "costheta = np.cos(theta)\n",
    "sintheta = np.sin(theta)\n",
    "cos2theta = np.cos(2 * theta)\n",
    "sin2theta = np.sin(2 * theta)\n",
    "# stress\n",
    "sigma_rr = df['stress_xx'][m_p] * np.power(costheta, 2) + df['stress_yy'][m_p] * np.power(sintheta, 2) + df['tau_xy'][m_p] * sin2theta\n",
    "sigma_tt = df['stress_xx'][m_p] * np.power(sintheta, 2) + df['stress_yy'][m_p] * np.power(costheta, 2) - df['tau_xy'][m_p] * sin2theta\n",
    "# output\n",
    "print(\"Maximum σ_yy: {}\".format(df['stress_yy'].max()))\n",
    "print(\"Minimum σ_xx: {}\".format(df['stress_xx'].min()))\n",
    "print(\"Radial stress at material point #\" + str(m_p) + \": \" + str(sigma_rr))\n",
    "print(\"Hoop stress at material point #\" + str(m_p) + \": \" + str(sigma_tt))"
   ]
  }
 ]
}