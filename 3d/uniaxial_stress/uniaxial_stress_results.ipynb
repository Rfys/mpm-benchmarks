{
 "cells": [
  {
   "cell_type": "markdown",
   "metadata": {},
   "source": [
    "# Uniaxial stress\n",
    "\n",
    "## USF\n",
    "\n",
    "> Case 1"
   ]
  },
  {
   "cell_type": "code",
   "execution_count": 3,
   "metadata": {},
   "outputs": [
    {
     "name": "stdout",
     "output_type": "stream",
     "text": [
      "Sigma_xx max: 0.04329409408111233 min: 0.043294094081112365\n",
      "Sigma_yy max: -0.9826823623675552 min: -0.9826823623675552\n"
     ]
    }
   ],
   "source": [
    "import pandas as pd\n",
    "df = pd.read_hdf('results/uniaxial-stress-3d/particles09.h5', 'table')\n",
    "print(\"Sigma_xx max: {} min: {}\".format(df['stress_xx'].min(), df['stress_xx'].max()))\n",
    "print(\"Sigma_yy max: {} min: {}\".format(df['stress_yy'].min(), df['stress_yy'].max()))"
   ]
  }
 ],
 "metadata": {
  "kernelspec": {
   "display_name": "Python 3",
   "language": "python",
   "name": "python3"
  },
  "language_info": {
   "codemirror_mode": {
    "name": "ipython",
    "version": 3
   },
   "file_extension": ".py",
   "mimetype": "text/x-python",
   "name": "python",
   "nbconvert_exporter": "python",
   "pygments_lexer": "ipython3",
   "version": "3.7.5"
  }
 },
 "nbformat": 4,
 "nbformat_minor": 2
}
