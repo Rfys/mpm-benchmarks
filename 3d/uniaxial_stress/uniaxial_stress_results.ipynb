{
 "cells": [
  {
   "cell_type": "markdown",
   "metadata": {},
   "source": [
    "# Uniaxial stress\n",
    "\n",
    "## USF\n",
    "\n",
    "> Case 1"
   ]
  },
  {
   "cell_type": "code",
   "execution_count": 1,
   "metadata": {},
   "outputs": [
    {
     "name": "stdout",
     "output_type": "stream",
     "text": [
      "Sigma_xx max: 0.0 min: 0.0\n",
      "Sigma_yy max: -0.9999999999999999 min: -0.9999999999999999\n"
     ]
    }
   ],
   "source": [
    "import pandas as pd\n",
    "df = pd.read_hdf('results/uniaxial-stress-3d-usf/particles09.h5', 'table')\n",
    "print(\"Sigma_xx max: {} min: {}\".format(df['stress_xx'].min(), df['stress_xx'].max()))\n",
    "print(\"Sigma_yy max: {} min: {}\".format(df['stress_yy'].min(), df['stress_yy'].max()))"
   ]
  }
 ],
 "metadata": {
  "kernelspec": {
   "display_name": "Python 3",
   "language": "python",
   "name": "python3"
  },
  "language_info": {
   "codemirror_mode": {
    "name": "ipython",
    "version": 3
   },
   "file_extension": ".py",
   "mimetype": "text/x-python",
   "name": "python",
   "nbconvert_exporter": "python",
   "pygments_lexer": "ipython3",
   "version": "3.7.6"
  }
 },
 "nbformat": 4,
 "nbformat_minor": 2
}
